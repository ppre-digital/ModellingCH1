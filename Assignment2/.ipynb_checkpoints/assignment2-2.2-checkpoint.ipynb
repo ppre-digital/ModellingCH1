{
 "cells": [
  {
   "cell_type": "markdown",
   "id": "3593c94b-ea90-41ce-8b76-feced5b554f7",
   "metadata": {},
   "source": [
    "# Assignment 2 \n",
    "## (2.2) Stationary Model "
   ]
  },
  {
   "cell_type": "markdown",
   "id": "48bdf663-3b4e-4ef8-be6c-90fbd9ae18fd",
   "metadata": {},
   "source": [
    "Calculate for the same parameters (taking into account only those applicable in the steady-state equation) the steady-state collector outlet temperature"
   ]
  },
  {
   "cell_type": "markdown",
   "id": "12144cdf-8819-4a68-afe8-fd928b429b84",
   "metadata": {},
   "source": [
    "#### Define system parameters and other constants"
   ]
  },
  {
   "cell_type": "code",
   "execution_count": 35,
   "id": "7011a4c2-94b2-4dd6-860b-4ca9ec36863e",
   "metadata": {},
   "outputs": [],
   "source": [
    "Eff0 = 0.6510   # zero loss efficiency [-]\n",
    "a1=1.631        # linear coefficient for heat losses [W/(m^2 * K)]\n",
    "a2=0.0096       # quadratic coefficient for heat losses [W/(m^2 * K)]\n",
    "ceff=44030      # coefficient of efficeincy [J/(m^2 * K)]\n",
    "cf=4180         # specific heat capacity of fluid [J/(kg * K)]\n",
    "#A=133          # area of collector [m^2]\n",
    "m=10/3600       # mass flow per unit area [kg/(s * m^2)]\n",
    "Ta= 5           # ambient temperature [C]\n",
    "G=700           # solar irradiance on collector's plate surface per unit area [W/m^2]\n",
    "Tin=10          # inlet temperature of fluid [C]\n",
    "T_out = lambda x, Tin : 2*x - Tin      # anonymous function for calculating outlet temperature of fluid [C]"
   ]
  },
  {
   "cell_type": "markdown",
   "id": "a680dc7f-f4de-41d2-b970-3a3612ec307b",
   "metadata": {},
   "source": [
    "#### Solution using Sympy"
   ]
  },
  {
   "cell_type": "code",
   "execution_count": 36,
   "id": "0c6119b2-7f92-4465-955c-8a50c8165b5e",
   "metadata": {},
   "outputs": [],
   "source": [
    "import sympy "
   ]
  },
  {
   "cell_type": "code",
   "execution_count": 44,
   "id": "32db115e-0726-4360-aecc-579e975aff4d",
   "metadata": {},
   "outputs": [],
   "source": [
    "x = sympy.symbols('x')     # assign symbol x to variable x"
   ]
  },
  {
   "cell_type": "code",
   "execution_count": 46,
   "id": "458976f7-1ea9-4735-a8c9-056cafedfce0",
   "metadata": {},
   "outputs": [],
   "source": [
    "F = ((G*Eff0)-a1*(x-Ta)-a2*(x-Ta)**2)-(m*cf*((2*x)-(2*Tin)))     # use the shared simplified equation equated to zero - assign it to variable F"
   ]
  },
  {
   "cell_type": "markdown",
   "id": "8c7dee0e-5699-4277-a55e-1df71f0c902d",
   "metadata": {},
   "source": [
    "#### Calculate $T_m$"
   ]
  },
  {
   "cell_type": "code",
   "execution_count": 47,
   "id": "27c7d1c8-2430-4c88-a4d2-f910640ddf7f",
   "metadata": {},
   "outputs": [],
   "source": [
    "Tm = sympy.solve(F, x)    # solve equation F for x, store value in Tm"
   ]
  },
  {
   "cell_type": "code",
   "execution_count": 48,
   "id": "18d99ac5-071c-48f9-8152-959e06406873",
   "metadata": {},
   "outputs": [
    {
     "data": {
      "text/plain": [
       "[-2606.68392507706, 27.8066102622468]"
      ]
     },
     "execution_count": 48,
     "metadata": {},
     "output_type": "execute_result"
    }
   ],
   "source": [
    "Tm    # have a look at Tm"
   ]
  },
  {
   "cell_type": "markdown",
   "id": "ff9c4ebb-27b9-41ce-8e85-d7381ce3ecd9",
   "metadata": {},
   "source": [
    "#### Calculate $T_{out}$"
   ]
  },
  {
   "cell_type": "code",
   "execution_count": 41,
   "id": "8a0f233c-2584-42e5-a98f-8041b39102a2",
   "metadata": {},
   "outputs": [
    {
     "data": {
      "text/latex": [
       "$\\displaystyle 45.6132205244935$"
      ],
      "text/plain": [
       "45.6132205244935"
      ]
     },
     "execution_count": 41,
     "metadata": {},
     "output_type": "execute_result"
    }
   ],
   "source": [
    "T_out_st = T_out(Tm[1], Tin)\n",
    "T_out_st"
   ]
  },
  {
   "cell_type": "markdown",
   "id": "074c65bd-1bb3-45e2-8def-73a3029ca3ab",
   "metadata": {},
   "source": [
    "#### Display the result"
   ]
  },
  {
   "cell_type": "code",
   "execution_count": 54,
   "id": "4ac1d0ee-d848-411b-8bf5-747cad115c25",
   "metadata": {},
   "outputs": [],
   "source": [
    "from IPython.display import display, Latex"
   ]
  },
  {
   "cell_type": "code",
   "execution_count": 56,
   "id": "b1aee9af-2484-42d4-82b4-f32f9bf4e379",
   "metadata": {},
   "outputs": [
    {
     "data": {
      "text/latex": [
       "The Outlet temperature using the stationary model is: 45.61 $^\\circ$C"
      ],
      "text/plain": [
       "<IPython.core.display.Latex object>"
      ]
     },
     "metadata": {},
     "output_type": "display_data"
    }
   ],
   "source": [
    "display(Latex('The Outlet temperature using the stationary model is: {} $^\\circ$C' .format(T_out_st.round(2))))"
   ]
  }
 ],
 "metadata": {
  "kernelspec": {
   "display_name": "Python 3 (ipykernel)",
   "language": "python",
   "name": "python3"
  },
  "language_info": {
   "codemirror_mode": {
    "name": "ipython",
    "version": 3
   },
   "file_extension": ".py",
   "mimetype": "text/x-python",
   "name": "python",
   "nbconvert_exporter": "python",
   "pygments_lexer": "ipython3",
   "version": "3.8.11"
  }
 },
 "nbformat": 4,
 "nbformat_minor": 5
}
