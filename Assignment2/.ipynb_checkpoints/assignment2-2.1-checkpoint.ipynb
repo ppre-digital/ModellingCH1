{
 "cells": [
  {
   "cell_type": "markdown",
   "id": "f16d6eab-78d7-46d0-8080-f9536a8dc590",
   "metadata": {},
   "source": [
    "# Assignment 2 \n",
    "## (2.1) Continuous Dynamic Model "
   ]
  },
  {
   "cell_type": "markdown",
   "id": "c094bae1-a950-4401-8009-fa173e82b25e",
   "metadata": {},
   "source": [
    "Problem statement:\n",
    "<br>\n",
    "For the parameters and (initital) conditions given, calculate the outlet temperature of the collector using\n",
    "   - the Euler-Cauchy AND\n",
    "   - the Runge-Kutta numerical methods\n",
    "   \n",
    "for the given times and timesteps."
   ]
  },
  {
   "cell_type": "markdown",
   "id": "56899789-adbd-4087-8bd5-6eda1e7fb4e6",
   "metadata": {},
   "source": [
    "#### Import the necessary modules."
   ]
  },
  {
   "cell_type": "code",
   "execution_count": 1,
   "id": "3949e00f-1d0b-4e54-81c8-d3b593a555e9",
   "metadata": {},
   "outputs": [],
   "source": [
    "import numpy as np"
   ]
  },
  {
   "cell_type": "markdown",
   "id": "bac332d5-543b-4330-a714-04a1d6675e8d",
   "metadata": {},
   "source": [
    "#### Define system parameters and other constants"
   ]
  },
  {
   "cell_type": "code",
   "execution_count": 2,
   "id": "2ae9a545-b960-4063-9e3b-409c63577335",
   "metadata": {},
   "outputs": [],
   "source": [
    "Eff0 = 0.6510   # zero loss efficiency [-]\n",
    "a1=1.631        # linear coefficient for heat losses [W/(m^2 * K)]\n",
    "a2=0.0096       # quadratic coefficient for heat losses [W/(m^2 * K)]\n",
    "ceff=44030      # coefficient of efficeincy [J/(m^2 * K)]\n",
    "cf=4180         # specific heat capacity of fluid [J/(kg * K)]\n",
    "#A=1.33          # area of collector [m^2]\n",
    "m=10/3600       # mass flow per unit area [kg/(s * m^2)]\n",
    "Ta= 5           # ambient temperature [C]\n",
    "G=700           # solar irradiance on collector's plate surface per unit area [W/m^2]\n",
    "Tin=10          # inlet temperature of fluid [C]\n",
    "T_out = lambda x, Tin : 2*x - Tin      # anonymous function for calculating outlet temperature of fluid [C]"
   ]
  },
  {
   "cell_type": "markdown",
   "id": "9361416b-d3a3-44d7-a2da-d2167e6fc6ad",
   "metadata": {},
   "source": [
    "#### Create the Euler-Cauchy and Runge-Kutta functions"
   ]
  },
  {
   "cell_type": "code",
   "execution_count": 3,
   "id": "c3fa0681-038d-43bf-9c91-9ba4e22a441e",
   "metadata": {},
   "outputs": [],
   "source": [
    "def EulerCauchy(F, t0, h, tfinal, y0):\n",
    "    t = np.arange(t0,tfinal+h,h)\n",
    "    y = np.ones(len(t))\n",
    "    y[0] = y0\n",
    "    for i in range(1,len(t)):\n",
    "        s1 = F(y[i-1]) #F(t[i-1], y[i-1])\n",
    "        y[i] = y[i-1] + s1*h \n",
    "    return y"
   ]
  },
  {
   "cell_type": "code",
   "execution_count": 4,
   "id": "b4f86af6-578e-4a04-9440-4e7b66993742",
   "metadata": {},
   "outputs": [],
   "source": [
    "def RungeKutta(F, t0, h, tfinal, y0):\n",
    "    t = np.arange(t0,tfinal+h,h)\n",
    "    y= np.ones(len(t))\n",
    "    y[0] = y0\n",
    "    \n",
    "    for i in range(1,len(t)):\n",
    "        s1 = F(y[i-1])                 #F(t[i-1], y[i-1])\n",
    "        s2 = F(y[i-1] + h*s1/2)        #F(t[i-1]+h/2, y[i-1]+h*s1/2)\n",
    "        s3 = F(y[i-1] + h*s2/2)        #F(t[i-1]+h/2, y[i-1]+h*s2/2)\n",
    "        s4 = F(y[i-1] + h*s3)          #F(t[i-1]+h, y[i-1]+h*s3)\n",
    "        y[i] = y[i-1] + h*(s1 + 2*s2 + 2*s3 + s4)/6\n",
    "    return y, t"
   ]
  },
  {
   "cell_type": "markdown",
   "id": "7dcc3eef-c382-46e7-8aef-55b3bef836cd",
   "metadata": {},
   "source": [
    "#### Initial values for the EC and RK functions inputs"
   ]
  },
  {
   "cell_type": "code",
   "execution_count": 5,
   "id": "831a4913-f615-4e27-9111-b76cc2d6dae4",
   "metadata": {},
   "outputs": [],
   "source": [
    "t0=0                                   # initial value for t (s)\n",
    "h_tfinal = np.array([[1, 1*60], [1*60, 1*60], [1*60, 10*60], [10*60, 10*60], [10*60, 60*60], [30*60, 30*60], [30*60, 60*60]])     # a matrix with the requested values for Tout calculation, first column is timestep size, second column is simulation time (seconds)\n",
    "Tm0=10                                  # initial value for Tm mean fluid temperature(C)"
   ]
  },
  {
   "cell_type": "markdown",
   "id": "d566bb81-d7f0-44eb-98de-073855ca1de9",
   "metadata": {},
   "source": [
    "#### Simplifying the dynamic equation\n",
    "Given equation:\n",
    "\n",
    "$$ C_{eff} \\cdot \\frac{dT_m}{dt} = A \\cdot [G \\cdot \\eta_0-a_1(T_m - T_a)-a_2(T_m-T_a)^2]-\\dot{m_F} \\cdot c_F (T_{F,out} - T_{F,in}) $$\n",
    "\n",
    "Given relations:\n",
    "\n",
    "$$ C_{eff} = A \\cdot c_{eff} $$\n",
    "$$ \\dot{m_F} = A \\cdot m $$\n",
    "$$T_{F,out} = 2T_m - T_{F,in} $$\n",
    "\n",
    "Applying these relations:\n",
    "\n",
    "$$ A \\cdot c_{eff} \\cdot \\frac{dT_m}{dt} = A \\cdot [G \\cdot \\eta_0 - a_1(T_m - T_a) - a_2(T_m-T_a)^2] - m \\cdot A \\cdot c_F (2T_m - 2T_{F,in}) $$\n",
    "\n",
    "Simplified equation for usage in code:\n",
    "\n",
    "$$ \\frac{dT_m}{dt} = \\frac{[G \\cdot \\eta_0 - a_1(T_m - T_a) - a_2(T_m - T_a)^2] - m \\cdot c_F (2T_m - 2T_{F,in})}{c_{eff}} $$"
   ]
  },
  {
   "cell_type": "code",
   "execution_count": 6,
   "id": "67baf4da-54e7-4322-b1d6-87856258f300",
   "metadata": {},
   "outputs": [],
   "source": [
    "# Function for the collector's dynamic model equation after simplification\n",
    "F = lambda y: (((G*Eff0)-a1*(y-Ta)-a2*(y-Ta)**2)-(m*cf*((2*y)-(2*Tin))))/ceff"
   ]
  },
  {
   "cell_type": "markdown",
   "id": "e6fba781-3552-4527-894f-a6719e7c1d1a",
   "metadata": {},
   "source": [
    "#### Call the EC and RK functions and store the values of $T_{F,out}$ for the different simulations"
   ]
  },
  {
   "cell_type": "code",
   "execution_count": 7,
   "id": "f9405fef-3d21-4cc4-a827-8c1a2163f59a",
   "metadata": {},
   "outputs": [],
   "source": [
    "for i in range(len(h_tfinal)):     # loop for the number of rows in h_tfinal matrix\n",
    "    \n",
    "    h = h_tfinal[i,0]              # assign the value of timestep in h_tfinal to h\n",
    "    tfinal = h_tfinal[i,1]         # assign the value of simulation time in h_tfinal to tfinal\n",
    "    \n",
    "    Tm_EC = EulerCauchy(F, t0, h, tfinal, Tm0)        # call the Euler-Cauchy function\n",
    "    Tm_RK, t = RungeKutta(F, t0, h, tfinal, Tm0)      # call the Runge-Kutta function\n",
    "    \n",
    "    # calculate outlet temperature from respective mean temperatures\n",
    "    Tout_EC = T_out(Tm_EC,Tin)\n",
    "    Tout_EC_final = T_out(Tm_EC[-1],Tin)\n",
    "    Tout_RK = T_out(Tm_RK,Tin)\n",
    "    Tout_RK_final = T_out(Tm_RK[-1],Tin)\n",
    "    \n",
    "    # create a list T with the required values for display\n",
    "    # create the list if it is the first iteration\n",
    "    if i == 0:     \n",
    "        T = [[h, tfinal, Tout_EC_final, Tout_RK_final]]\n",
    "    # else append to the existing list T\n",
    "    else:\n",
    "        T.append([h, tfinal, Tout_EC_final, Tout_RK_final])"
   ]
  },
  {
   "cell_type": "code",
   "execution_count": 8,
   "id": "e53d834b-304c-4af3-aa1b-a924e6b17411",
   "metadata": {},
   "outputs": [
    {
     "data": {
      "text/plain": [
       "[[1, 60, 11.198931685284098, 11.19859763789447],\n",
       " [60, 60, 11.219091528503291, 11.19859762410831],\n",
       " [60, 600, 20.483112408271886, 20.3324121341568],\n",
       " [600, 600, 22.19091528503293, 20.331093634860437],\n",
       " [600, 3600, 42.76476048661995, 41.08152934269164],\n",
       " [1800, 1800, 46.572745855098795, 32.60209783513692],\n",
       " [1800, 3600, 45.58048188742795, 40.87098396921634]]"
      ]
     },
     "execution_count": 8,
     "metadata": {},
     "output_type": "execute_result"
    }
   ],
   "source": [
    "T"
   ]
  },
  {
   "cell_type": "markdown",
   "id": "4a67516d-a960-4658-b08e-5bea45520632",
   "metadata": {},
   "source": [
    "#### Present the results in a table"
   ]
  },
  {
   "cell_type": "code",
   "execution_count": 9,
   "id": "eb309897-abcc-466c-9ca8-cb0c100dd289",
   "metadata": {},
   "outputs": [],
   "source": [
    "from tabulate import tabulate"
   ]
  },
  {
   "cell_type": "code",
   "execution_count": 10,
   "id": "06ab8e9b-9d24-4a14-87d8-d6efedbf9be8",
   "metadata": {},
   "outputs": [
    {
     "name": "stdout",
     "output_type": "stream",
     "text": [
      "  Time step [s]    Simulation time [s]    Outlet Temperature EC [C]    Outlet Temperature RK [C]\n",
      "---------------  ---------------------  ---------------------------  ---------------------------\n",
      "              1                     60                      11.1989                      11.1986\n",
      "             60                     60                      11.2191                      11.1986\n",
      "             60                    600                      20.4831                      20.3324\n",
      "            600                    600                      22.1909                      20.3311\n",
      "            600                   3600                      42.7648                      41.0815\n",
      "           1800                   1800                      46.5727                      32.6021\n",
      "           1800                   3600                      45.5805                      40.871\n"
     ]
    }
   ],
   "source": [
    "print(tabulate(T, headers = ['Time step [s]', 'Simulation time [s]', 'Outlet Temperature EC [C]', 'Outlet Temperature RK [C]']))"
   ]
  },
  {
   "cell_type": "markdown",
   "id": "fceb6f8f-5518-4c36-8b22-0ddf518c3bb0",
   "metadata": {},
   "source": [
    "#### Display the results in a bar chart"
   ]
  },
  {
   "cell_type": "code",
   "execution_count": 11,
   "id": "20b5fd36-43bb-48a8-a050-8f9015dfb44e",
   "metadata": {},
   "outputs": [],
   "source": [
    "import pandas as pd"
   ]
  },
  {
   "cell_type": "code",
   "execution_count": 12,
   "id": "be2992d9-adb6-4e2d-8ed4-fe4204e8dd47",
   "metadata": {},
   "outputs": [],
   "source": [
    "df = pd.DataFrame(T, index = ['1s/1min', '1min/1min', '1min/10min', '10min/10min', '10min/60min', '30min/30min', '30min/60min'], \n",
    "                  columns =  ['Time step [s]', 'Simulation time [s]', 'Outlet Temperature EC [$^\\circ$C]', 'Outlet Temperature RK [$^\\circ$C]'])"
   ]
  },
  {
   "cell_type": "code",
   "execution_count": 13,
   "id": "a5d23df5-2fa4-4296-b0d5-d808891f2f4f",
   "metadata": {},
   "outputs": [
    {
     "data": {
      "text/html": [
       "<div>\n",
       "<style scoped>\n",
       "    .dataframe tbody tr th:only-of-type {\n",
       "        vertical-align: middle;\n",
       "    }\n",
       "\n",
       "    .dataframe tbody tr th {\n",
       "        vertical-align: top;\n",
       "    }\n",
       "\n",
       "    .dataframe thead th {\n",
       "        text-align: right;\n",
       "    }\n",
       "</style>\n",
       "<table border=\"1\" class=\"dataframe\">\n",
       "  <thead>\n",
       "    <tr style=\"text-align: right;\">\n",
       "      <th></th>\n",
       "      <th>Time step [s]</th>\n",
       "      <th>Simulation time [s]</th>\n",
       "      <th>Outlet Temperature EC [$^\\circ$C]</th>\n",
       "      <th>Outlet Temperature RK [$^\\circ$C]</th>\n",
       "    </tr>\n",
       "  </thead>\n",
       "  <tbody>\n",
       "    <tr>\n",
       "      <th>1s/1min</th>\n",
       "      <td>1</td>\n",
       "      <td>60</td>\n",
       "      <td>11.198932</td>\n",
       "      <td>11.198598</td>\n",
       "    </tr>\n",
       "    <tr>\n",
       "      <th>1min/1min</th>\n",
       "      <td>60</td>\n",
       "      <td>60</td>\n",
       "      <td>11.219092</td>\n",
       "      <td>11.198598</td>\n",
       "    </tr>\n",
       "    <tr>\n",
       "      <th>1min/10min</th>\n",
       "      <td>60</td>\n",
       "      <td>600</td>\n",
       "      <td>20.483112</td>\n",
       "      <td>20.332412</td>\n",
       "    </tr>\n",
       "    <tr>\n",
       "      <th>10min/10min</th>\n",
       "      <td>600</td>\n",
       "      <td>600</td>\n",
       "      <td>22.190915</td>\n",
       "      <td>20.331094</td>\n",
       "    </tr>\n",
       "    <tr>\n",
       "      <th>10min/60min</th>\n",
       "      <td>600</td>\n",
       "      <td>3600</td>\n",
       "      <td>42.764760</td>\n",
       "      <td>41.081529</td>\n",
       "    </tr>\n",
       "    <tr>\n",
       "      <th>30min/30min</th>\n",
       "      <td>1800</td>\n",
       "      <td>1800</td>\n",
       "      <td>46.572746</td>\n",
       "      <td>32.602098</td>\n",
       "    </tr>\n",
       "    <tr>\n",
       "      <th>30min/60min</th>\n",
       "      <td>1800</td>\n",
       "      <td>3600</td>\n",
       "      <td>45.580482</td>\n",
       "      <td>40.870984</td>\n",
       "    </tr>\n",
       "  </tbody>\n",
       "</table>\n",
       "</div>"
      ],
      "text/plain": [
       "             Time step [s]  Simulation time [s]  \\\n",
       "1s/1min                  1                   60   \n",
       "1min/1min               60                   60   \n",
       "1min/10min              60                  600   \n",
       "10min/10min            600                  600   \n",
       "10min/60min            600                 3600   \n",
       "30min/30min           1800                 1800   \n",
       "30min/60min           1800                 3600   \n",
       "\n",
       "             Outlet Temperature EC [$^\\circ$C]  \\\n",
       "1s/1min                              11.198932   \n",
       "1min/1min                            11.219092   \n",
       "1min/10min                           20.483112   \n",
       "10min/10min                          22.190915   \n",
       "10min/60min                          42.764760   \n",
       "30min/30min                          46.572746   \n",
       "30min/60min                          45.580482   \n",
       "\n",
       "             Outlet Temperature RK [$^\\circ$C]  \n",
       "1s/1min                              11.198598  \n",
       "1min/1min                            11.198598  \n",
       "1min/10min                           20.332412  \n",
       "10min/10min                          20.331094  \n",
       "10min/60min                          41.081529  \n",
       "30min/30min                          32.602098  \n",
       "30min/60min                          40.870984  "
      ]
     },
     "execution_count": 13,
     "metadata": {},
     "output_type": "execute_result"
    }
   ],
   "source": [
    "df"
   ]
  },
  {
   "cell_type": "code",
   "execution_count": 14,
   "id": "1a990e50-23bd-4ff5-8223-d6b1dc3dade1",
   "metadata": {},
   "outputs": [
    {
     "data": {
      "image/png": "[encoded data removed]",
      "text/plain": [
       "<Figure size 864x576 with 1 Axes>"
      ]
     },
     "metadata": {
      "needs_background": "light"
     },
     "output_type": "display_data"
    }
   ],
   "source": [
    "df.plot.bar(y=['Outlet Temperature EC [$^\\circ$C]', 'Outlet Temperature RK [$^\\circ$C]'], \n",
    "            rot= 45, \n",
    "            figsize = (12,8), \n",
    "            title = 'Estimation of outlet temperature using both EC and RK methods', \n",
    "            grid = True, \n",
    "            ylim= (0,50),\n",
    "            ylabel = 'Outlet temperature [$^\\circ$C]',\n",
    "            xlabel = 'Time step / Simulation time');"
   ]
  }
 ],
 "metadata": {
  "kernelspec": {
   "display_name": "Python 3 (ipykernel)",
   "language": "python",
   "name": "python3"
  },
  "language_info": {
   "codemirror_mode": {
    "name": "ipython",
    "version": 3
   },
   "file_extension": ".py",
   "mimetype": "text/x-python",
   "name": "python",
   "nbconvert_exporter": "python",
   "pygments_lexer": "ipython3",
   "version": "3.8.11"
  }
 },
 "nbformat": 4,
 "nbformat_minor": 5
}
